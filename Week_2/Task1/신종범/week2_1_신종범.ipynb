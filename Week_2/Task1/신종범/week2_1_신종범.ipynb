{
 "cells": [
  {
   "cell_type": "code",
   "execution_count": 2,
   "id": "cd0a8cd6-4a6d-4e44-b927-1ee877e5dde1",
   "metadata": {},
   "outputs": [],
   "source": [
    "import numpy as np\n",
    "import keras\n",
    "import tensorflow as tf\n",
    "from keras import layers\n",
    "from sklearn.model_selection import KFold\n",
    "import matplotlib.pyplot as plt"
   ]
  },
  {
   "cell_type": "code",
   "execution_count": 4,
   "id": "702f4718-f2c5-47b6-97b7-050b66715033",
   "metadata": {},
   "outputs": [],
   "source": [
    "# 필요한 파라미터 설정\n",
    "batch_size = 32\n",
    "img_height = 200\n",
    "img_width = 200"
   ]
  },
  {
   "cell_type": "code",
   "execution_count": 6,
   "id": "3261491d-5afb-4b85-a4f7-e1da5e04e0d8",
   "metadata": {},
   "outputs": [
    {
     "name": "stdout",
     "output_type": "stream",
     "text": [
      "Found 360 files belonging to 2 classes.\n",
      "Using 288 files for training.\n",
      "Found 360 files belonging to 2 classes.\n",
      "Using 72 files for validation.\n"
     ]
    }
   ],
   "source": [
    "# 이미지 데이터셋 로드 및 전처리\n",
    "img_train = keras.utils.image_dataset_from_directory(\n",
    "    \"./Dataset\",\n",
    "    labels=\"inferred\",\n",
    "    validation_split=0.2,\n",
    "    label_mode=\"binary\",\n",
    "    subset=\"training\",\n",
    "    seed=123,\n",
    "    image_size=(img_height, img_width),\n",
    "    shuffle=True,\n",
    "    batch_size=batch_size\n",
    ")\n",
    "\n",
    "img_test = keras.utils.image_dataset_from_directory(\n",
    "    \"./Dataset\",\n",
    "    labels=\"inferred\",\n",
    "    validation_split=0.2,\n",
    "    subset=\"validation\",\n",
    "    seed=123,\n",
    "    image_size=(img_height, img_width),\n",
    "    shuffle=True,\n",
    "    batch_size=batch_size\n",
    ")"
   ]
  },
  {
   "cell_type": "code",
   "execution_count": 8,
   "id": "f07572ab-071b-4bd0-be2b-c149788c1bf3",
   "metadata": {},
   "outputs": [],
   "source": [
    "# 데이터셋을 numpy 배열로 변환하는 함수\n",
    "def dataset_to_numpy(dataset):\n",
    "    images = []\n",
    "    labels = []\n",
    "    for image_batch, label_batch in dataset:\n",
    "        images.append(image_batch.numpy())\n",
    "        labels.append(label_batch.numpy())\n",
    "    return np.concatenate(images), np.concatenate(labels)\n",
    "\n",
    "# numpy 배열로 변환\n",
    "train_images, train_labels = dataset_to_numpy(img_train)\n",
    "validation_images, validation_labels = dataset_to_numpy(img_test)"
   ]
  },
  {
   "cell_type": "code",
   "execution_count": 10,
   "id": "fea694b3-25ca-4581-8529-4efc7820d596",
   "metadata": {},
   "outputs": [],
   "source": [
    "# k-폴드 교차 검증 설정\n",
    "k = 5\n",
    "kf = KFold(n_splits=k, shuffle=True, random_state=123)\n",
    "\n",
    "# 각 폴드에 대한 성능 저장할 리스트\n",
    "accuracy_per_fold = []\n",
    "loss_per_fold = []"
   ]
  },
  {
   "cell_type": "code",
   "execution_count": 18,
   "id": "f2a1ab61-d2b3-4427-950f-076256f9dc5f",
   "metadata": {},
   "outputs": [
    {
     "name": "stdout",
     "output_type": "stream",
     "text": [
      "폴드 1 학습 중...\n"
     ]
    },
    {
     "name": "stderr",
     "output_type": "stream",
     "text": [
      "C:\\Users\\JongBeom\\anaconda3\\Lib\\site-packages\\keras\\src\\ops\\nn.py:907: UserWarning: You are using a softmax over axis -1 of a tensor of shape (None, 1). This axis has size 1. The softmax operation will always return the value 1, which is likely not what you intended. Did you mean to use a sigmoid instead?\n",
      "  warnings.warn(\n",
      "C:\\Users\\JongBeom\\anaconda3\\Lib\\site-packages\\keras\\src\\backend\\tensorflow\\nn.py:780: UserWarning: \"`binary_crossentropy` received `from_logits=True`, but the `output` argument was produced by a Sigmoid activation and thus does not represent logits. Was this intended?\n",
      "  output, from_logits = _get_logits(\n"
     ]
    },
    {
     "name": "stdout",
     "output_type": "stream",
     "text": [
      "폴드 1의 성능: 손실값 7312.9580078125; 정확도 56.896549463272095%\n",
      "폴드 2 학습 중...\n",
      "폴드 2의 성능: 손실값 2251.951171875; 정확도 51.724135875701904%\n",
      "폴드 3 학습 중...\n",
      "폴드 3의 성능: 손실값 1042.64013671875; 정확도 46.55172526836395%\n",
      "폴드 4 학습 중...\n",
      "폴드 4의 성능: 손실값 1684.40869140625; 정확도 57.894736528396606%\n",
      "폴드 5 학습 중...\n",
      "폴드 5의 성능: 손실값 9076.015625; 정확도 43.85964870452881%\n"
     ]
    }
   ],
   "source": [
    "# 각 폴드에 대해 모델 학습 및 검증\n",
    "fold_no = 1\n",
    "for train, test in kf.split(train_images, train_labels):\n",
    "    # 모델 생성\n",
    "    model = keras.Sequential()\n",
    "    model.add(keras.Input(shape=(img_height, img_width, 3)))\n",
    "    model.add(keras.layers.Flatten())\n",
    "    model.add(keras.layers.Dense(300, activation=\"relu\"))\n",
    "    model.add(keras.layers.Dense(100, activation=\"relu\"))\n",
    "    model.add(keras.layers.Dense(1, activation=\"softmax\"))\n",
    " # 모델 컴파일\n",
    "    model.compile(optimizer='adam',\n",
    "                  loss=tf.keras.losses.BinaryCrossentropy(from_logits=True),\n",
    "                  metrics=['accuracy'])\n",
    "    # 모델 학습\n",
    "    print(f'폴드 {fold_no} 학습 중...')\n",
    "    history = model.fit(train_images[train], train_labels[train], epochs=3, batch_size=batch_size, verbose=0)\n",
    "    \n",
    "    # 모델 평가\n",
    "    scores = model.evaluate(train_images[test], train_labels[test], verbose=0)\n",
    "    print(f'폴드 {fold_no}의 성능: 손실값 {scores[0]}; 정확도 {scores[1]*100}%')\n",
    "    accuracy_per_fold.append(scores[1] * 100)\n",
    "    loss_per_fold.append(scores[0])\n",
    "\n",
    "    fold_no += 1"
   ]
  },
  {
   "cell_type": "code",
   "execution_count": 14,
   "id": "8ff1f90a-47aa-4fe9-aafd-d1e9372998c3",
   "metadata": {},
   "outputs": [
    {
     "name": "stdout",
     "output_type": "stream",
     "text": [
      "------------------------------------------------------------------------\n",
      "폴드별 성능\n",
      "------------------------------------------------------------------------\n",
      "> 폴드 1 - 손실값: 7278.0712890625 - 정확도: 43.10344755649567%\n",
      "------------------------------------------------------------------------\n",
      "> 폴드 2 - 손실값: 212.22683715820312 - 정확도: 53.448277711868286%\n",
      "------------------------------------------------------------------------\n",
      "> 폴드 3 - 손실값: 1307.2369384765625 - 정확도: 53.448277711868286%\n",
      "------------------------------------------------------------------------\n",
      "> 폴드 4 - 손실값: 2987.747314453125 - 정확도: 57.894736528396606%\n",
      "------------------------------------------------------------------------\n",
      "> 폴드 5 - 손실값: 7861.9716796875 - 정확도: 43.85964870452881%\n",
      "------------------------------------------------------------------------\n",
      "모든 폴드의 평균 성능:\n",
      "> 정확도: 50.35087764263153% (+- 5.8439520402967355)\n",
      "> 손실값: 3929.450811767578\n",
      "------------------------------------------------------------------------\n",
      "\u001b[1m3/3\u001b[0m \u001b[32m━━━━━━━━━━━━━━━━━━━━\u001b[0m\u001b[37m\u001b[0m \u001b[1m0s\u001b[0m 14ms/step - accuracy: 0.4527 - loss: 7649.2969 \n",
      "최종 모델 성능: 손실값 7782.2646484375; 정확도 44.44444477558136%\n"
     ]
    },
    {
     "name": "stderr",
     "output_type": "stream",
     "text": [
      "C:\\Users\\JongBeom\\anaconda3\\Lib\\site-packages\\keras\\src\\backend\\tensorflow\\nn.py:780: UserWarning: \"`binary_crossentropy` received `from_logits=True`, but the `output` argument was produced by a Sigmoid activation and thus does not represent logits. Was this intended?\n",
      "  output, from_logits = _get_logits(\n"
     ]
    }
   ],
   "source": [
    "# 폴드별 평균 성능 지표 출력\n",
    "print('------------------------------------------------------------------------')\n",
    "print('폴드별 성능')\n",
    "for i in range(0, len(accuracy_per_fold)):\n",
    "    print('------------------------------------------------------------------------')\n",
    "    print(f'> 폴드 {i+1} - 손실값: {loss_per_fold[i]} - 정확도: {accuracy_per_fold[i]}%')\n",
    "print('------------------------------------------------------------------------')\n",
    "print('모든 폴드의 평균 성능:')\n",
    "print(f'> 정확도: {np.mean(accuracy_per_fold)}% (+- {np.std(accuracy_per_fold)})')\n",
    "print(f'> 손실값: {np.mean(loss_per_fold)}')\n",
    "print('------------------------------------------------------------------------')\n",
    "\n",
    "# 최종 모델 평가\n",
    "final_scores = model.evaluate(img_test)\n",
    "print(f'최종 모델 성능: 손실값 {final_scores[0]}; 정확도 {final_scores[1]*100}%')\n"
   ]
  },
  {
   "cell_type": "code",
   "execution_count": 16,
   "id": "93ddf56b-1d8f-46f4-8644-b88efd7b41b4",
   "metadata": {},
   "outputs": [
    {
     "name": "stdout",
     "output_type": "stream",
     "text": [
      "Found 360 files belonging to 2 classes.\n",
      "Using 288 files for training.\n",
      "Found 360 files belonging to 2 classes.\n",
      "Using 72 files for validation.\n",
      "Epoch 1/3\n"
     ]
    },
    {
     "name": "stderr",
     "output_type": "stream",
     "text": [
      "C:\\Users\\JongBeom\\anaconda3\\Lib\\site-packages\\keras\\src\\backend\\tensorflow\\nn.py:780: UserWarning: \"`binary_crossentropy` received `from_logits=True`, but the `output` argument was produced by a Sigmoid activation and thus does not represent logits. Was this intended?\n",
      "  output, from_logits = _get_logits(\n"
     ]
    },
    {
     "name": "stdout",
     "output_type": "stream",
     "text": [
      "\u001b[1m9/9\u001b[0m \u001b[32m━━━━━━━━━━━━━━━━━━━━\u001b[0m\u001b[37m\u001b[0m \u001b[1m2s\u001b[0m 106ms/step - accuracy: 0.4763 - loss: 15761.5273 - val_accuracy: 0.5556 - val_loss: 4951.4160\n",
      "Epoch 2/3\n",
      "\u001b[1m9/9\u001b[0m \u001b[32m━━━━━━━━━━━━━━━━━━━━\u001b[0m\u001b[37m\u001b[0m \u001b[1m1s\u001b[0m 89ms/step - accuracy: 0.5462 - loss: 4482.0142 - val_accuracy: 0.5556 - val_loss: 1774.6919\n",
      "Epoch 3/3\n",
      "\u001b[1m9/9\u001b[0m \u001b[32m━━━━━━━━━━━━━━━━━━━━\u001b[0m\u001b[37m\u001b[0m \u001b[1m1s\u001b[0m 89ms/step - accuracy: 0.5072 - loss: 3919.6482 - val_accuracy: 0.4444 - val_loss: 5674.6787\n",
      "\u001b[1m3/3\u001b[0m \u001b[32m━━━━━━━━━━━━━━━━━━━━\u001b[0m\u001b[37m\u001b[0m \u001b[1m0s\u001b[0m 14ms/step - accuracy: 0.4566 - loss: 5530.7378\n",
      "최종 모델 성능: 손실값 5674.6787109375; 정확도 44.44444477558136%\n"
     ]
    }
   ],
   "source": [
    "import numpy as np\n",
    "import keras\n",
    "import tensorflow as tf\n",
    "from keras import layers\n",
    "import matplotlib.pyplot as plt\n",
    "\n",
    "# 필요한 파라미터 설정\n",
    "batch_size = 32\n",
    "img_height = 200\n",
    "img_width = 200\n",
    "\n",
    "# 이미지 데이터셋 로드 및 전처리\n",
    "img_train = keras.utils.image_dataset_from_directory(\n",
    "    \"./Dataset\",\n",
    "    labels=\"inferred\",\n",
    "    validation_split=0.2,\n",
    "    label_mode=\"binary\",\n",
    "    subset=\"training\",\n",
    "    seed=123,\n",
    "    image_size=(img_height, img_width),\n",
    "    shuffle=True,\n",
    "    batch_size=batch_size\n",
    ")\n",
    "\n",
    "img_test = keras.utils.image_dataset_from_directory(\n",
    "    \"./Dataset\",\n",
    "    labels=\"inferred\",\n",
    "    validation_split=0.2,\n",
    "    subset=\"validation\",\n",
    "    seed=123,\n",
    "    image_size=(img_height, img_width),\n",
    "    shuffle=True,\n",
    "    batch_size=batch_size\n",
    ")\n",
    "\n",
    "# 모델 생성\n",
    "model = keras.Sequential()\n",
    "model.add(keras.Input(shape=(img_height, img_width, 3)))\n",
    "model.add(keras.layers.Flatten())\n",
    "model.add(keras.layers.Dense(300, activation=\"relu\"))\n",
    "model.add(keras.layers.Dense(100, activation=\"relu\"))\n",
    "model.add(keras.layers.Dense(1, activation=\"sigmoid\"))\n",
    "\n",
    "# 모델 컴파일\n",
    "model.compile(optimizer='adam',\n",
    "              loss=tf.keras.losses.BinaryCrossentropy(from_logits=True),\n",
    "              metrics=['accuracy'])\n",
    "\n",
    "# 모델 학습\n",
    "model.fit(\n",
    "    img_train,\n",
    "    validation_data=img_test,\n",
    "    epochs=3\n",
    ")\n",
    "\n",
    "# 모델 평가\n",
    "final_scores = model.evaluate(img_test)\n",
    "print(f'최종 모델 성능: 손실값 {final_scores[0]}; 정확도 {final_scores[1]*100}%')\n"
   ]
  },
  {
   "cell_type": "code",
   "execution_count": null,
   "id": "60ad5f01-aa12-4693-be17-991dff6e6273",
   "metadata": {},
   "outputs": [],
   "source": []
  }
 ],
 "metadata": {
  "kernelspec": {
   "display_name": "Python 3 (ipykernel)",
   "language": "python",
   "name": "python3"
  },
  "language_info": {
   "codemirror_mode": {
    "name": "ipython",
    "version": 3
   },
   "file_extension": ".py",
   "mimetype": "text/x-python",
   "name": "python",
   "nbconvert_exporter": "python",
   "pygments_lexer": "ipython3",
   "version": "3.12.7"
  }
 },
 "nbformat": 4,
 "nbformat_minor": 5
}
