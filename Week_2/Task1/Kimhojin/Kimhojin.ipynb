{
  "cells": [
    {
      "cell_type": "markdown",
      "metadata": {
        "id": "HZCB5Swj9Xc4"
      },
      "source": [
        "#### Shell commands to install pytorch and torchvision\n",
        "\n",
        "##### GPU version\n",
        "```shell\n",
        "conda install pytorch torchvision pytorch-cuda=11.8 matplotlib ipykernel -c pytorch -c nvidia\n",
        "```\n",
        "\n",
        "##### CPU version\n",
        "```shell\n",
        "conda install pytorch torchvision cpuonly matplotlib ipykernel -c pytorch\n",
        "```"
      ]
    },
    {
      "cell_type": "code",
      "execution_count": 1,
      "metadata": {
        "colab": {
          "base_uri": "https://localhost:8080/"
        },
        "id": "BOT62gbF9Xc5",
        "outputId": "6550067e-5f14-4b4e-86c2-038722d7e805"
      },
      "outputs": [
        {
          "name": "stdout",
          "output_type": "stream",
          "text": [
            "PyTorch version:[2.3.0+cu121].\n",
            "torchvision version:[0.18.0+cu121].\n",
            "GPU 사용 가능 여부: False\n",
            "GPU 개수: 0\n",
            "CUDA 버전: 12.1\n",
            "다음 기기로 학습합니다: cpu\n"
          ]
        }
      ],
      "source": [
        "import torch\n",
        "import torchvision\n",
        "import torchvision.datasets as dsets\n",
        "import torchvision.transforms as transforms\n",
        "from torch.utils.data import DataLoader\n",
        "import torch.nn as nn\n",
        "import matplotlib.pyplot as plt\n",
        "import random\n",
        "from sklearn.model_selection import KFold\n",
        "\n",
        "\n",
        "print(\"PyTorch version:[%s].\" % (torch.__version__))\n",
        "print(\"torchvision version:[%s].\" % (torchvision.__version__))\n",
        "print(\"GPU 사용 가능 여부: {}\".format(torch.cuda.is_available()))\n",
        "#print(\"GPU 이름: {}\".format(torch.cuda.get_device_name()))\n",
        "print(\"GPU 개수: {}\".format(torch.cuda.device_count()))\n",
        "print(\"CUDA 버전: {}\".format(torch.version.cuda))\n",
        "\n",
        "\n",
        "USE_CUDA = torch.cuda.is_available() # GPU를 사용가능하면 True, 아니라면 False를 리턴\n",
        "device = torch.device(\"cuda\" if USE_CUDA else \"cpu\") # GPU 사용 가능하면 사용하고 아니면 CPU 사용\n",
        "print(\"다음 기기로 학습합니다:\", device)"
      ]
    },
    {
      "cell_type": "code",
      "execution_count": 2,
      "metadata": {
        "id": "TBL6Ap-j9Xc6"
      },
      "outputs": [],
      "source": [
        "# for reproducibility\n",
        "random.seed(777)\n",
        "torch.manual_seed(777)\n",
        "if device == 'cuda':\n",
        "    torch.cuda.manual_seed_all(777)"
      ]
    },
    {
      "cell_type": "code",
      "execution_count": 3,
      "metadata": {
        "colab": {
          "base_uri": "https://localhost:8080/"
        },
        "id": "svEGMLbHENpQ",
        "outputId": "a03ce594-56d4-47c5-edf2-2caf82b7dca1"
      },
      "outputs": [
        {
          "name": "stdout",
          "output_type": "stream",
          "text": [
            "Mounted at /content/drive/\n"
          ]
        }
      ],
      "source": [
        "from google.colab import drive\n",
        "drive.mount('/content/drive/')"
      ]
    },
    {
      "cell_type": "code",
      "execution_count": null,
      "metadata": {
        "colab": {
          "base_uri": "https://localhost:8080/"
        },
        "id": "2Wbz_M9tw1Lr",
        "outputId": "159e1794-a345-442a-fe8e-ed0eb09988c3"
      },
      "outputs": [
        {
          "name": "stderr",
          "output_type": "stream",
          "text": [
            "<ipython-input-4-2e3795afb0d4>:12: UserWarning: Creating a tensor from a list of numpy.ndarrays is extremely slow. Please consider converting the list to a single numpy.ndarray with numpy.array() before converting to a tensor. (Triggered internally at ../torch/csrc/utils/tensor_new.cpp:274.)\n",
            "  image =torch.FloatTensor([image])\n"
          ]
        },
        {
          "name": "stdout",
          "output_type": "stream",
          "text": [
            "240\n",
            "40\n"
          ]
        }
      ],
      "source": [
        "from PIL import Image\n",
        "import numpy as np\n",
        "dataset=[]\n",
        "#train_dataset=[]\n",
        "#test_dataset=[]\n",
        "for n in range(1,141):\n",
        "  try:\n",
        "    image = Image.open('/content/drive/MyDrive/ColabNotebooks/Dataset/o_{}.png'.format(n)).convert('L')\n",
        "  except:\n",
        "    image = Image.open('/content/drive/MyDrive/ColabNotebooks/Dataset/o_{}.jpg'.format(n)).convert('L')\n",
        "  image = np.array(image)\n",
        "  image =torch.FloatTensor([image])\n",
        "  data=image,torch.FloatTensor([[0,1]])\n",
        "  dataset.append(data)\n",
        "  try:\n",
        "    image = Image.open('/content/drive/MyDrive/ColabNotebooks/Dataset/x_{}.png'.format(n)).convert('L')\n",
        "  except:\n",
        "    image = Image.open('/content/drive/MyDrive/ColabNotebooks/Dataset/x_{}.jpg'.format(n)).convert('L')\n",
        "  image = np.array(image)\n",
        "  image=torch.FloatTensor([image])\n",
        "  data=image,torch.FloatTensor([[1,0]])\n",
        "  dataset.append(data)\n",
        "train_dataset=dataset[:240]\n",
        "test_dataset=dataset[240:280]\n",
        "\n",
        "print(len(train_dataset))\n",
        "print(len(test_dataset))"
      ]
    },
    {
      "cell_type": "code",
      "execution_count": null,
      "metadata": {
        "colab": {
          "base_uri": "https://localhost:8080/",
          "height": 595
        },
        "id": "dLJVQkku9Xc7",
        "outputId": "db6cb02b-d182-46c6-f752-7aab77d82d18"
      },
      "outputs": [
        {
          "name": "stdout",
          "output_type": "stream",
          "text": [
            "X: tensor([[[255., 255., 255.,  ..., 255., 255., 255.],\n",
            "         [255., 255., 255.,  ..., 255., 255., 255.],\n",
            "         [255., 255., 255.,  ..., 255., 255., 255.],\n",
            "         ...,\n",
            "         [255., 255., 255.,  ..., 255., 255., 255.],\n",
            "         [255., 255., 255.,  ..., 255., 255., 255.],\n",
            "         [255., 255., 255.,  ..., 255., 255., 255.]]])\n",
            "Y: tensor([[0., 1.]])\n"
          ]
        },
        {
          "data": {
            "image/png": "[encoded data removed]",
            "text/plain": [
              "<Figure size 640x480 with 1 Axes>"
            ]
          },
          "metadata": {},
          "output_type": "display_data"
        }
      ],
      "source": [
        "# Print sample data\n",
        "cnt=0\n",
        "for X, Y in test_dataset:\n",
        "    print('X:', X)\n",
        "    print('Y:', Y)\n",
        "    X=[t.numpy() for t in X]\n",
        "    plt.imshow(X[0], cmap='gray')\n",
        "    plt.title('Class: ' + str(Y))\n",
        "    plt.show()\n",
        "    break"
      ]
    },
    {
      "cell_type": "code",
      "execution_count": 4,
      "metadata": {
        "id": "G-_J1WFu9Xc6"
      },
      "outputs": [],
      "source": [
        "# hyperparameters\n",
        "training_epochs = 100\n",
        "\n",
        "learning_rate = 0.001 #adam일시 0.001\n",
        "\n",
        "input_size = 90000    # 28x28 image       # 고정된 값 (이미지 크기)\n",
        "hidden_size = 300   # 임의의 값           # 임의의 값 (hidden layer의 노드 개수)\n",
        "output_size = 2    # 0~9               # 고정된 값 (분류할 클래스 개수)\n"
      ]
    },
    {
      "cell_type": "code",
      "execution_count": 5,
      "metadata": {
        "id": "06sPZobI9Xc7"
      },
      "outputs": [],
      "source": [
        "class MLP(nn.Module):\n",
        "\n",
        "    def __init__(self):\n",
        "        super(MLP, self).__init__()\n",
        "\n",
        "        # 여기에 MLP 모델을 정의해주세요\n",
        "        self.sequential = nn.Sequential(\n",
        "\n",
        "            nn.Flatten(),   # 28x28 image를 784x1 vector로 변환\n",
        "\n",
        "            # 1st layer\n",
        "            nn.Linear(input_size,hidden_size),\n",
        "            nn.Sigmoid(),\n",
        "            # 2nd layer\n",
        "            nn.Linear(hidden_size,hidden_size),\n",
        "            nn.Sigmoid(),\n",
        "\n",
        "            nn.Linear(hidden_size,hidden_size),\n",
        "            nn.Sigmoid(),\n",
        "\n",
        "            # 3rd layer\n",
        "            nn.Linear(hidden_size,output_size)\n",
        "        )\n",
        "\n",
        "    def forward(self, x):\n",
        "        x= x/255\n",
        "        x = self.sequential(x)\n",
        "\n",
        "        return x  # 마지막 layer의 output을 리턴"
      ]
    },
    {
      "cell_type": "code",
      "execution_count": 6,
      "metadata": {
        "colab": {
          "base_uri": "https://localhost:8080/"
        },
        "id": "9hmiILXY9Xc7",
        "outputId": "3236b7a5-5add-49d7-d368-d94be546784f"
      },
      "outputs": [
        {
          "name": "stdout",
          "output_type": "stream",
          "text": [
            "MLP(\n",
            "  (sequential): Sequential(\n",
            "    (0): Flatten(start_dim=1, end_dim=-1)\n",
            "    (1): Linear(in_features=90000, out_features=300, bias=True)\n",
            "    (2): Sigmoid()\n",
            "    (3): Linear(in_features=300, out_features=300, bias=True)\n",
            "    (4): Sigmoid()\n",
            "    (5): Linear(in_features=300, out_features=300, bias=True)\n",
            "    (6): Sigmoid()\n",
            "    (7): Linear(in_features=300, out_features=2, bias=True)\n",
            "  )\n",
            ")\n",
            "MLP(\n",
            "  (sequential): Sequential(\n",
            "    (0): Flatten(start_dim=1, end_dim=-1)\n",
            "    (1): Linear(in_features=90000, out_features=300, bias=True)\n",
            "    (2): Sigmoid()\n",
            "    (3): Linear(in_features=300, out_features=300, bias=True)\n",
            "    (4): Sigmoid()\n",
            "    (5): Linear(in_features=300, out_features=300, bias=True)\n",
            "    (6): Sigmoid()\n",
            "    (7): Linear(in_features=300, out_features=2, bias=True)\n",
            "  )\n",
            ")\n"
          ]
        }
      ],
      "source": [
        "# 작성한 모델 정의\n",
        "model1 = MLP().to(device) #Sgd\n",
        "model2 = MLP().to(device) #Adam\n",
        "print(model1)\n",
        "print(model2)"
      ]
    },
    {
      "cell_type": "code",
      "execution_count": 7,
      "metadata": {
        "id": "Ho8bgmaT9Xc8"
      },
      "outputs": [],
      "source": [
        "# 비용 함수와 옵티마이저 정의\n",
        "criterion = nn.CrossEntropyLoss().to(device) # 내부적으로 소프트맥스 함수를 포함하고 있음.\n",
        "optimizer1 = torch.optim.SGD(model1.parameters(), lr=0.01)\n",
        "optimizer2 = torch.optim.Adam(model2.parameters(), lr=learning_rate)"
      ]
    },
    {
      "cell_type": "code",
      "execution_count": null,
      "metadata": {
        "colab": {
          "base_uri": "https://localhost:8080/"
        },
        "id": "IpuFMxNG9Xc8",
        "outputId": "4fbb7509-f3de-40c0-b5d1-50c481e32091"
      },
      "outputs": [
        {
          "name": "stdout",
          "output_type": "stream",
          "text": [
            "Epoch: 0010 loss = 0.785160661\n",
            "Epoch: 0020 loss = 0.736577570\n",
            "Epoch: 0030 loss = 0.718968630\n",
            "Epoch: 0040 loss = 0.711027980\n",
            "Epoch: 0050 loss = 0.706780910\n",
            "Epoch: 0060 loss = 0.704208434\n",
            "Epoch: 0070 loss = 0.702504873\n",
            "Epoch: 0080 loss = 0.701284826\n",
            "Epoch: 0090 loss = 0.700333893\n",
            "Epoch: 0100 loss = 0.699498653\n",
            "Epoch: 0110 loss = 0.698568523\n",
            "Epoch: 0120 loss = 0.697145879\n",
            "Epoch: 0130 loss = 0.693761051\n",
            "Epoch: 0140 loss = 0.683682203\n",
            "Epoch: 0150 loss = 0.657581568\n",
            "Epoch: 0160 loss = 0.607853830\n",
            "Epoch: 0170 loss = 0.540832460\n",
            "Epoch: 0180 loss = 0.478779078\n",
            "Epoch: 0190 loss = 0.442116588\n",
            "Epoch: 0200 loss = 0.461104363\n",
            "Learning finished\n"
          ]
        }
      ],
      "source": [
        "\n",
        "sgd=[]\n",
        "for epoch in range(training_epochs):\n",
        "    avg_loss = 0\n",
        "\n",
        "    for X, Y in train_dataset:\n",
        "\n",
        "      X = X.to(device)\n",
        "\n",
        "      Y = Y.to(device)\n",
        "      optimizer1.zero_grad()\n",
        "\n",
        "      Y_hat = model1(X)            # hypothesis : y_hat (예측값)\n",
        "\n",
        "      loss = criterion(Y_hat, Y)\n",
        "      loss.backward()\n",
        "      optimizer1.step()\n",
        "      avg_loss+=loss\n",
        "    avg_loss=avg_loss/len(train_dataset)\n",
        "    sgd.append(avg_loss.cpu().detach())\n",
        "    if(epoch %10 ==9):\n",
        "      print(\"Epoch:\", \"%04d\" % (epoch + 1), \"loss =\", \"{:.9f}\".format(avg_loss))\n",
        "\n",
        "print(\"Learning finished\")"
      ]
    },
    {
      "cell_type": "code",
      "execution_count": null,
      "metadata": {
        "colab": {
          "base_uri": "https://localhost:8080/"
        },
        "id": "C40b6vbibg5C",
        "outputId": "a78a021d-dcea-444e-9949-7237cf38dc8d"
      },
      "outputs": [
        {
          "name": "stdout",
          "output_type": "stream",
          "text": [
            "Epoch: 0010 loss = 0.697270751\n",
            "Epoch: 0020 loss = 0.697065234\n",
            "Epoch: 0030 loss = 0.696892917\n",
            "Epoch: 0040 loss = 0.696614444\n",
            "Epoch: 0050 loss = 0.696299553\n",
            "Epoch: 0060 loss = 0.695920527\n",
            "Epoch: 0070 loss = 0.695351720\n",
            "Epoch: 0080 loss = 0.694598973\n",
            "Epoch: 0090 loss = 0.693419516\n",
            "Epoch: 0100 loss = 0.693215013\n",
            "Epoch: 0110 loss = 0.693192899\n",
            "Epoch: 0120 loss = 0.693180919\n",
            "Epoch: 0130 loss = 0.693176091\n",
            "Epoch: 0140 loss = 0.693174601\n",
            "Epoch: 0150 loss = 0.693174481\n",
            "Epoch: 0160 loss = 0.693175375\n",
            "Epoch: 0170 loss = 0.693172157\n",
            "Epoch: 0180 loss = 0.693173945\n",
            "Epoch: 0190 loss = 0.693173945\n",
            "Epoch: 0200 loss = 0.693173885\n",
            "Learning finished\n"
          ]
        }
      ],
      "source": [
        "adam=[]\n",
        "for epoch in range(training_epochs):\n",
        "    avg_loss = 0\n",
        "\n",
        "    for X, Y in train_dataset:\n",
        "\n",
        "      X = X.to(device)\n",
        "\n",
        "\n",
        "      Y = Y.to(device)\n",
        "      optimizer2.zero_grad()\n",
        "\n",
        "      Y_hat = model2(X)            # hypothesis : y_hat (예측값)\n",
        "\n",
        "      loss = criterion(Y_hat, Y)\n",
        "      loss.backward()\n",
        "      optimizer2.step()\n",
        "      avg_loss+=loss\n",
        "    avg_loss=avg_loss/len(train_dataset)\n",
        "    adam.append(avg_loss.cpu().detach())\n",
        "    if(epoch %10 ==9):\n",
        "      print(\"Epoch:\", \"%04d\" % (epoch + 1), \"loss =\", \"{:.9f}\".format(avg_loss))\n",
        "\n",
        "print(\"Learning finished\")"
      ]
    },
    {
      "cell_type": "code",
      "execution_count": null,
      "metadata": {
        "colab": {
          "base_uri": "https://localhost:8080/",
          "height": 448
        },
        "id": "7ZhflmU4N_Sr",
        "outputId": "e715a083-849c-45a3-929d-5633e94a4332"
      },
      "outputs": [
        {
          "data": {
            "text/plain": [
              "<matplotlib.legend.Legend at 0x7fe669b83af0>"
            ]
          },
          "execution_count": 13,
          "metadata": {},
          "output_type": "execute_result"
        },
        {
          "data": {
            "image/png": "[encoded data removed]",
            "text/plain": [
              "<Figure size 640x480 with 1 Axes>"
            ]
          },
          "metadata": {},
          "output_type": "display_data"
        }
      ],
      "source": [
        "import matplotlib.pyplot as plt\n",
        "\n",
        "plt.plot(sgd,label=\"sgd\")\n",
        "plt.plot(adam,label=\"adam\")\n",
        "plt.legend()"
      ]
    },
    {
      "cell_type": "code",
      "execution_count": null,
      "metadata": {
        "colab": {
          "base_uri": "https://localhost:8080/"
        },
        "id": "bb5Kn8_63kMm",
        "outputId": "9e7db598-c57d-44c2-dc33-421a985cf60c"
      },
      "outputs": [
        {
          "name": "stdout",
          "output_type": "stream",
          "text": [
            "Label:  0.0 1.0\n",
            "Prediction:  0.03332534 0.033275954\n",
            "Label:  1.0 0.0\n",
            "Prediction:  0.03332534 0.033275954\n",
            "Label:  0.0 1.0\n",
            "Prediction:  0.03332534 0.033275954\n",
            "Label:  1.0 0.0\n",
            "Prediction:  0.03332534 0.033275954\n",
            "Label:  0.0 1.0\n",
            "Prediction:  0.03332534 0.033275954\n",
            "Label:  1.0 0.0\n",
            "Prediction:  0.03332534 0.033275954\n",
            "Label:  0.0 1.0\n",
            "Prediction:  0.03332534 0.033275954\n",
            "Label:  1.0 0.0\n",
            "Prediction:  0.03332534 0.033275954\n",
            "Label:  0.0 1.0\n",
            "Prediction:  0.03332534 0.033275954\n",
            "Label:  1.0 0.0\n",
            "Prediction:  0.03332534 0.033275954\n",
            "Label:  0.0 1.0\n",
            "Prediction:  0.03332534 0.033275954\n",
            "Label:  1.0 0.0\n",
            "Prediction:  0.03332534 0.033275954\n",
            "Label:  0.0 1.0\n",
            "Prediction:  0.03332534 0.033275954\n",
            "Label:  1.0 0.0\n",
            "Prediction:  0.03332534 0.033275954\n",
            "Label:  0.0 1.0\n",
            "Prediction:  0.03332534 0.033275954\n",
            "Label:  1.0 0.0\n",
            "Prediction:  0.03332534 0.033275954\n",
            "Label:  0.0 1.0\n",
            "Prediction:  0.03332534 0.033275954\n",
            "Label:  1.0 0.0\n",
            "Prediction:  0.03332534 0.033275954\n",
            "Label:  0.0 1.0\n",
            "Prediction:  0.03332534 0.033275954\n",
            "Label:  1.0 0.0\n",
            "Prediction:  0.03332534 0.033275954\n",
            "Label:  0.0 1.0\n",
            "Prediction:  0.03332534 0.033275954\n",
            "Label:  1.0 0.0\n",
            "Prediction:  0.03332534 0.033275954\n",
            "Label:  0.0 1.0\n",
            "Prediction:  0.03332534 0.033275954\n",
            "Label:  1.0 0.0\n",
            "Prediction:  0.03332534 0.033275954\n",
            "Label:  0.0 1.0\n",
            "Prediction:  0.03332534 0.033275954\n",
            "Label:  1.0 0.0\n",
            "Prediction:  0.03332534 0.033275954\n",
            "Label:  0.0 1.0\n",
            "Prediction:  0.03332534 0.033275954\n",
            "Label:  1.0 0.0\n",
            "Prediction:  0.03332534 0.033275954\n",
            "Label:  0.0 1.0\n",
            "Prediction:  0.03332534 0.033275954\n",
            "Label:  1.0 0.0\n",
            "Prediction:  0.03332534 0.033275954\n",
            "Label:  0.0 1.0\n",
            "Prediction:  0.03332534 0.033275954\n",
            "Label:  1.0 0.0\n",
            "Prediction:  0.03332534 0.033275954\n",
            "Label:  0.0 1.0\n",
            "Prediction:  0.03332534 0.033275954\n",
            "Label:  1.0 0.0\n",
            "Prediction:  0.03332534 0.033275954\n",
            "Label:  0.0 1.0\n",
            "Prediction:  0.03332534 0.033275954\n",
            "Label:  1.0 0.0\n",
            "Prediction:  0.03332534 0.033275954\n",
            "Label:  0.0 1.0\n",
            "Prediction:  0.03332534 0.033275954\n",
            "Label:  1.0 0.0\n",
            "Prediction:  0.03332534 0.033275954\n",
            "Label:  0.0 1.0\n",
            "Prediction:  0.03332534 0.033275954\n",
            "Label:  1.0 0.0\n",
            "Prediction:  0.03332534 0.033275954\n",
            "Accurancy:  0.5\n"
          ]
        }
      ],
      "source": [
        "with torch.no_grad():  # torch.no_grad()를 하면 gradient 계산을 수행하지 않는다.\n",
        "    cnt=0\n",
        "    for X_test,Y_test in test_dataset:\n",
        "\n",
        "      prediction = model2(X_test.to(device))\n",
        "      a=[t.numpy() for t in Y_test]\n",
        "      b=[t.cpu().numpy() for t in prediction]\n",
        "      #if(b[0][0]<0 and b[0][1]<0 or b[0][0]>0 and b[0][1]>0):\n",
        "        #print(\"Wrong Prediction: \", b[0][0],b[0][1])\n",
        "      #print(\"Label: \",a[0][0],a[0][1])\n",
        "      #print(\"Prediction: \", b[0][0],b[0][1])\n",
        "      if(a[0][0]==1 and b[0][0]>b[0][1]):\n",
        "        cnt+=1\n",
        "      elif(a[0][1]==1 and b[0][1]>b[0][0]):\n",
        "        cnt+=1\n",
        "    print(\"Accurancy: \",cnt/len(test_dataset))"
      ]
    },
    {
      "cell_type": "code",
      "execution_count": 8,
      "metadata": {
        "colab": {
          "base_uri": "https://localhost:8080/"
        },
        "id": "hlHfcEaekLNg",
        "outputId": "88d2826f-679b-4173-c286-40f71d7ba4a6"
      },
      "outputs": [
        {
          "name": "stdout",
          "output_type": "stream",
          "text": [
            "240\n",
            "40\n"
          ]
        }
      ],
      "source": [
        "from PIL import Image\n",
        "import numpy as np\n",
        "dataset=[]\n",
        "#train_dataset=[]\n",
        "#test_dataset=[]\n",
        "for n in range(1,141):\n",
        "  try:\n",
        "    image = Image.open('/content/drive/MyDrive/ColabNotebooks/Dataset/o_{}.png'.format(n)).convert('L')\n",
        "  except:\n",
        "    image = Image.open('/content/drive/MyDrive/ColabNotebooks/Dataset/o_{}.jpg'.format(n)).convert('L')\n",
        "  image = np.array(image)\n",
        "  #image =torch.FloatTensor([image])\n",
        "  #data=image,torch.FloatTensor([[0,1]])\n",
        "  data=image,0\n",
        "  dataset.append(data)\n",
        "  try:\n",
        "    image = Image.open('/content/drive/MyDrive/ColabNotebooks/Dataset/x_{}.png'.format(n)).convert('L')\n",
        "  except:\n",
        "    image = Image.open('/content/drive/MyDrive/ColabNotebooks/Dataset/x_{}.jpg'.format(n)).convert('L')\n",
        "  image = np.array(image)\n",
        "  #image=torch.FloatTensor(image])\n",
        "  #data=image,torch.FloatTensor([[1,0]])\n",
        "  data=image,1\n",
        "  dataset.append(data)\n",
        "train_dataset=dataset[:240]\n",
        "test_dataset=dataset[240:280]\n",
        "\n",
        "print(len(train_dataset))\n",
        "print(len(test_dataset))"
      ]
    },
    {
      "cell_type": "code",
      "execution_count": null,
      "metadata": {
        "colab": {
          "base_uri": "https://localhost:8080/"
        },
        "id": "ZyJ30p-fhOpg",
        "outputId": "836e6731-16b1-42a2-a9fa-ffdf73b5c070"
      },
      "outputs": [
        {
          "name": "stdout",
          "output_type": "stream",
          "text": [
            "FOLD 0\n",
            "Epoch: 0001 loss = 0.771668971\n",
            "Epoch: 0002 loss = 0.731991231\n",
            "Epoch: 0003 loss = 0.723297834\n",
            "Epoch: 0004 loss = 0.753403962\n",
            "Epoch: 0005 loss = 0.704884529\n",
            "Epoch: 0006 loss = 0.695252538\n",
            "Epoch: 0007 loss = 0.694069624\n",
            "Epoch: 0008 loss = 0.693667829\n",
            "Epoch: 0009 loss = 0.693880022\n"
          ]
        }
      ],
      "source": [
        "kfold = KFold(n_splits=7, shuffle=True)\n",
        "sgd=[]\n",
        "accurancy=0;\n",
        "for fold, (train_ids, test_ids) in enumerate(kfold.split(dataset)):\n",
        "  print(f'FOLD {fold}')\n",
        "  #print((train_ids, test_ids))\n",
        "  train_subsampler = torch.utils.data.SubsetRandomSampler(train_ids)\n",
        "  test_subsampler = torch.utils.data.SubsetRandomSampler(test_ids)\n",
        "\n",
        "    # Define data loaders for training and testing data in this fold\n",
        "  trainloader = torch.utils.data.DataLoader(\n",
        "                      dataset,\n",
        "                      sampler=train_subsampler)\n",
        "  testloader = torch.utils.data.DataLoader(\n",
        "                      dataset, sampler=test_subsampler)\n",
        "\n",
        "  fold_sgd=[]\n",
        "  for epoch in range(10):#epoch\n",
        "    avg_loss = 0\n",
        "\n",
        "    for X, Y in trainloader:\n",
        "      X = X.to(device)\n",
        "\n",
        "      Y = Y.to(device)\n",
        "      optimizer2.zero_grad()\n",
        "\n",
        "      Y_hat = model2(X)            # hypothesis : y_hat (예측값)\n",
        "\n",
        "      loss = criterion(Y_hat, Y)\n",
        "      loss.backward()\n",
        "      optimizer2.step()\n",
        "      avg_loss+=loss\n",
        "    avg_loss=avg_loss/len(train_dataset)\n",
        "    fold_sgd.append(avg_loss.cpu().detach())\n",
        "    print(\"Epoch:\", \"%04d\" % (epoch + 1), \"loss =\", \"{:.9f}\".format(avg_loss))\n",
        "  sgd.append(fold_sgd)\n",
        "  with torch.no_grad():  # torch.no_grad()를 하면 gradient 계산을 수행하지 않는다.\n",
        "    cnt=0\n",
        "    for X_test,Y_test in testloader:\n",
        "\n",
        "      prediction = model2(X_test.to(device))\n",
        "      a=[t.numpy() for t in Y_test]\n",
        "      b=[t.cpu().numpy() for t in prediction]\n",
        "      #if(b[0][0]<0 and b[0][1]<0 or b[0][0]>0 and b[0][1]>0):\n",
        "        #print(\"Wrong Prediction: \", b[0][0],b[0][1])\n",
        "      if(a[0]==1 and b[0][0]>b[0][1]):\n",
        "        cnt+=1\n",
        "      elif(a[0]==1 and b[0][1]>b[0][0]):\n",
        "        cnt+=1\n",
        "    accurancy+=cnt/len(test_dataset)\n",
        "    print(\"Accurancy: \",cnt/len(test_dataset))\n",
        "print(\"Total Accurancy: \",accurancy/7)\n",
        "print(\"Learning finished\")\n"
      ]
    }
  ],
  "metadata": {
    "colab": {
      "provenance": [],
      "toc_visible": true
    },
    "kernelspec": {
      "display_name": "Python 3",
      "name": "python3"
    },
    "language_info": {
      "codemirror_mode": {
        "name": "ipython",
        "version": 3
      },
      "file_extension": ".py",
      "mimetype": "text/x-python",
      "name": "python",
      "nbconvert_exporter": "python",
      "pygments_lexer": "ipython3",
      "version": "3.10.13"
    }
  },
  "nbformat": 4,
  "nbformat_minor": 0
}
