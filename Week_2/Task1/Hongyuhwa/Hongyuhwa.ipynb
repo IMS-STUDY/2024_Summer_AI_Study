{
  "nbformat": 4,
  "nbformat_minor": 0,
  "metadata": {
    "colab": {
      "provenance": []
    },
    "kernelspec": {
      "name": "python3",
      "display_name": "Python 3"
    },
    "language_info": {
      "name": "python"
    }
  },
  "cells": [
    {
      "cell_type": "code",
      "execution_count": null,
      "metadata": {
        "id": "sA0-P4ZdD08q"
      },
      "outputs": [],
      "source": [
        "# Dataset 폴더에 압축 해제\n",
        "!mkdir -p /content/OX_Dataset\n",
        "!unzip -qq /content/OX_Dataset.zip -d /content/OX_Dataset"
      ]
    },
    {
      "cell_type": "code",
      "source": [
        "# 라이브러리 임포트\n",
        "import torch\n",
        "import torch.nn as nn\n",
        "import torch.nn.functional as F\n",
        "import torch.optim as optim\n",
        "import torchvision\n",
        "import torchvision.transforms as transforms\n",
        "import torchvision.datasets as datasets\n",
        "import torch.utils.data as data\n",
        "import torchvision.models as models\n",
        "import numpy as np\n",
        "import matplotlib.pyplot as plt\n",
        "from torchvision.datasets import ImageFolder\n",
        "from torch.utils.data import DataLoader\n",
        "from torchvision import transforms\n",
        "import os\n",
        "from torch.utils.data import Dataset # Import the Dataset class\n",
        "from PIL import Image"
      ],
      "metadata": {
        "id": "TQiI7V0rD4Ox"
      },
      "execution_count": null,
      "outputs": []
    },
    {
      "cell_type": "code",
      "source": [
        "trans = transforms.Compose([transforms.Resize((224, 224)),\n",
        "                            transforms.ToTensor(),\n",
        "                            transforms.Normalize(mean=[0.485, 0.456, 0.406], std=[0.229, 0.224, 0.225])])\n",
        "trainset = datasets.ImageFolder(root='/content/OX_Dataset', transform=trans)"
      ],
      "metadata": {
        "id": "0uK-pOo1D835"
      },
      "execution_count": null,
      "outputs": []
    },
    {
      "cell_type": "code",
      "source": [
        "# 리스트 생성\n",
        "modified_data = []\n",
        "\n",
        "for i in range(len(trainset)):\n",
        "  image, label = trainset[i]  # 이미지, 레이블을 얻음\n",
        "  if i < 140:\n",
        "    label = 0\n",
        "  else:\n",
        "    label = 1\n",
        "  modified_data.append((image, label))\n",
        "\n",
        "\n",
        "class CustomDataset(Dataset):\n",
        "    def __init__(self, data):\n",
        "        self.data = data\n",
        "\n",
        "        self.classes = ['O', 'X']\n",
        "        self.class_to_idx = {'O': 0, 'X': 1}\n",
        "\n",
        "    def __len__(self):\n",
        "        return len(self.data)\n",
        "\n",
        "    def __getitem__(self, idx):\n",
        "        return self.data[idx]\n",
        "\n",
        "\n",
        "modified_trainset = CustomDataset(modified_data)\n",
        "\n",
        "\n",
        "trainloader = torch.utils.data.DataLoader(modified_trainset, batch_size=10, shuffle=True)\n",
        "\n",
        "\n",
        "print(modified_trainset.classes)\n",
        "print(modified_trainset.class_to_idx)"
      ],
      "metadata": {
        "id": "pRk7MaFiD9jA"
      },
      "execution_count": null,
      "outputs": []
    },
    {
      "cell_type": "code",
      "source": [
        "# 시각화\n",
        "def imshow(img):\n",
        "    img = img / 2 + 0.5     # unnormalize\n",
        "    npimg = img.numpy()\n",
        "    plt.imshow(np.transpose(npimg, (1, 2, 0)))\n",
        "    plt.show\n",
        "\n",
        "images, labels = next(iter(trainloader))\n",
        "print(images.shape)\n",
        "print(labels)\n",
        "imshow(torchvision.utils.make_grid(images))"
      ],
      "metadata": {
        "id": "AU8NcAorEW2J"
      },
      "execution_count": null,
      "outputs": []
    }
  ]
}