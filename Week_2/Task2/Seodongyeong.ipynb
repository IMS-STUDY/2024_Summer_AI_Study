{
 "cells": [
  {
   "cell_type": "code",
   "execution_count": 57,
   "id": "16b64fed-ff45-4a0a-9c84-0e605fbd9de0",
   "metadata": {},
   "outputs": [
    {
     "name": "stdout",
     "output_type": "stream",
     "text": [
      "Looking in indexes: https://pypi.org/simple, https://download.pytorch.org/whl/cu118\n",
      "Note: you may need to restart the kernel to use updated packages.\n"
     ]
    },
    {
     "name": "stderr",
     "output_type": "stream",
     "text": [
      "WARNING: Ignoring invalid distribution -rotobuf (c:\\users\\potato\\appdata\\local\\programs\\python\\python310\\lib\\site-packages)\n",
      "WARNING: Ignoring invalid distribution -rotobuf (c:\\users\\potato\\appdata\\local\\programs\\python\\python310\\lib\\site-packages)\n",
      "ERROR: Could not find a version that satisfies the requirement torch==1.13.0+cu118 (from versions: 1.11.0, 1.12.0, 1.12.1, 1.13.0, 1.13.1, 2.0.0, 2.0.0+cu118, 2.0.1, 2.0.1+cu118, 2.1.0, 2.1.0+cu118, 2.1.1, 2.1.1+cu118, 2.1.2, 2.1.2+cu118, 2.2.0, 2.2.0+cu118, 2.2.1, 2.2.1+cu118, 2.2.2, 2.2.2+cu118, 2.3.0, 2.3.0+cu118, 2.3.1, 2.3.1+cu118)\n",
      "ERROR: No matching distribution found for torch==1.13.0+cu118\n",
      "WARNING: Ignoring invalid distribution -rotobuf (c:\\users\\potato\\appdata\\local\\programs\\python\\python310\\lib\\site-packages)\n",
      "WARNING: Ignoring invalid distribution -rotobuf (c:\\users\\potato\\appdata\\local\\programs\\python\\python310\\lib\\site-packages)\n",
      "WARNING: Ignoring invalid distribution -rotobuf (c:\\users\\potato\\appdata\\local\\programs\\python\\python310\\lib\\site-packages)\n",
      "\n",
      "[notice] A new release of pip is available: 23.0.1 -> 24.1.2\n",
      "[notice] To update, run: python.exe -m pip install --upgrade pip\n"
     ]
    }
   ],
   "source": [
    "pip install torch==1.13.0+cu121 torchvision==0.14.0+cu118 torchaudio==0.13.0 --extra-index-url https://download.pytorch.org/whl/cu118"
   ]
  },
  {
   "cell_type": "code",
   "execution_count": 1,
   "id": "5684ae33-71d2-498c-a8b6-4af6486698f3",
   "metadata": {},
   "outputs": [],
   "source": [
    "import matplotlib\n",
    "import matplotlib.pyplot as plt\n",
    "\n",
    "import torch\n",
    "import torch.nn as nn\n",
    "import torch.nn.functional as F\n",
    "import torch.optim as optim\n",
    "\n",
    "from torch.utils.data import Dataset, DataLoader, Subset\n",
    "from torch.autograd import Variable\n",
    "\n",
    "import torchvision\n",
    "import torchvision.transforms as transforms\n",
    "\n",
    "from sklearn.model_selection import train_test_split\n",
    "\n",
    "import numpy as np\n",
    "import os\n",
    "from PIL import Image\n",
    "import cv2\n",
    "import random\n",
    "import sys"
   ]
  },
  {
   "cell_type": "code",
   "execution_count": 2,
   "id": "a6a1cc55-26d3-4f96-84ba-0fc0d052cf83",
   "metadata": {},
   "outputs": [],
   "source": [
    "os.environ['CUDA_LAUNCH_BLOCKING'] = \"1\"\n",
    "os.environ[\"CUDA_VISIBLE_DEVICES\"] = \"0\""
   ]
  },
  {
   "cell_type": "code",
   "execution_count": 2,
   "id": "61d3e9d6-f5fb-4351-bcca-9498c3b3db45",
   "metadata": {},
   "outputs": [
    {
     "data": {
      "text/plain": [
       "True"
      ]
     },
     "execution_count": 2,
     "metadata": {},
     "output_type": "execute_result"
    }
   ],
   "source": [
    "# cuda 사용 가능 여부 확인\n",
    "torch.cuda.is_available()"
   ]
  },
  {
   "cell_type": "code",
   "execution_count": 3,
   "id": "b20da1ea-4a7b-4e12-992a-0025d64c331f",
   "metadata": {},
   "outputs": [
    {
     "name": "stdout",
     "output_type": "stream",
     "text": [
      "Current Device : cuda\n"
     ]
    }
   ],
   "source": [
    "device = 'cuda' if torch.cuda.is_available() else 'cpu'\n",
    "\n",
    "print(\"Current Device : {}\".format(device))\n"
   ]
  },
  {
   "cell_type": "code",
   "execution_count": 4,
   "id": "aef09759-8cc7-4f3c-b497-1b50673a3554",
   "metadata": {},
   "outputs": [
    {
     "data": {
      "text/plain": [
       "'NVIDIA GeForce RTX 3070'"
      ]
     },
     "execution_count": 4,
     "metadata": {},
     "output_type": "execute_result"
    }
   ],
   "source": [
    "torch.cuda.get_device_name(device)"
   ]
  },
  {
   "cell_type": "code",
   "execution_count": 5,
   "id": "c5f81bfa-a0df-4ac9-8831-e1a6f1c99ddc",
   "metadata": {},
   "outputs": [
    {
     "data": {
      "text/plain": [
       "0"
      ]
     },
     "execution_count": 5,
     "metadata": {},
     "output_type": "execute_result"
    }
   ],
   "source": [
    "torch.cuda.current_device()"
   ]
  },
  {
   "cell_type": "code",
   "execution_count": 6,
   "id": "8fc08bfa-f65f-4b46-9c05-4e04a0121442",
   "metadata": {},
   "outputs": [],
   "source": [
    "# 시드 고정\n",
    "def set_random_seed(seed):\n",
    "    np.random.seed(seed)\n",
    "    torch.manual_seed(seed)\n",
    "    torch.cuda.manual_seed(seed)\n",
    "    torch.cuda.manual_seed_all(seed)\n",
    "    random.seed(seed)\n",
    "    os.environ['PYTHONHASHSEED'] = str(seed)\n",
    "    torch.backends.cudnn.benchmark = True\n",
    "    torch.backends.cudnn.deterministic = True\n",
    "set_random_seed(7777)"
   ]
  },
  {
   "cell_type": "code",
   "execution_count": 7,
   "id": "68ece438-00d4-4ee8-9406-dc9a8f243f7b",
   "metadata": {},
   "outputs": [],
   "source": [
    "# 파일 경로명 지정\n",
    "file_dir = \"./colab/colab/\""
   ]
  },
  {
   "cell_type": "code",
   "execution_count": 8,
   "id": "817f1100-98c2-4b52-a02b-bc6289d94109",
   "metadata": {},
   "outputs": [],
   "source": [
    "# 데이터 전처리 및 DataSet 만들기(사전에 디렉토리 나누기 필수)\n",
    "train_dir = os.path.join(file_dir + \"train/\")\n",
    "test_dir = os.path.join(file_dir + \"test/\")\n",
    "\n",
    "train_trans = transforms.Compose([\n",
    "    #transforms.Resize((224, 224)),\n",
    "    transforms.Grayscale(),\n",
    "    transforms.ToTensor(),\n",
    "    #transforms.Normalize((0.5,), (0.5,))\n",
    "])\n",
    "\n",
    "test_trans = transforms.Compose([\n",
    "    transforms.Resize((300, 300)),\n",
    "    transforms.Grayscale(),\n",
    "    transforms.ToTensor()\n",
    "])\n",
    "\n",
    "trainset = torchvision.datasets.ImageFolder(root = train_dir, transform = train_trans)\n",
    "testset = torchvision.datasets.ImageFolder(root = test_dir, transform = test_trans)"
   ]
  },
  {
   "cell_type": "code",
   "execution_count": 9,
   "id": "19237de2-6864-49e0-9c45-1a60fbc0e604",
   "metadata": {},
   "outputs": [
    {
     "data": {
      "text/plain": [
       "<matplotlib.image.AxesImage at 0x1dc3a477610>"
      ]
     },
     "execution_count": 9,
     "metadata": {},
     "output_type": "execute_result"
    },
    {
     "data": {
      "image/png": "[encoded data removed]",
      "text/plain": [
       "<Figure size 640x480 with 1 Axes>"
      ]
     },
     "metadata": {},
     "output_type": "display_data"
    }
   ],
   "source": [
    "# 데이터셋 테스트, 가장 첫번째 이미지 불러오기(train\\o\\o_1.png)\n",
    "plt.imshow(transforms.ToPILImage()(trainset[150][0]), cmap='gray')"
   ]
  },
  {
   "cell_type": "code",
   "execution_count": 10,
   "id": "9a5221ae-d8b6-47c1-89da-128cdf19ffc8",
   "metadata": {},
   "outputs": [],
   "source": [
    "# HyperParameter\n",
    "n_batch = 20\n",
    "\n",
    "# DataLoader 만들기\n",
    "trainloader = DataLoader(trainset, batch_size = n_batch, shuffle = True, num_workers = 4)\n",
    "testloader = DataLoader(testset, batch_size = n_batch, shuffle = True, num_workers = 4) # 사전에 랜덤으로 섞어놓은 상태라 테스트셋 셔플이 의미가 있나 싶지만.. 그래도"
   ]
  },
  {
   "cell_type": "code",
   "execution_count": 11,
   "id": "47dd8e2f-00a3-439c-a175-566d9f7a3e05",
   "metadata": {},
   "outputs": [],
   "source": [
    "# train 데이터셋을 batch 단위로 순회하는 iterator\n",
    "it = iter(trainloader)"
   ]
  },
  {
   "cell_type": "code",
   "execution_count": 12,
   "id": "9183f6c5-0b42-47ef-92da-6e3bc55d18ba",
   "metadata": {},
   "outputs": [
    {
     "name": "stdout",
     "output_type": "stream",
     "text": [
      "클래스: ['o', 'x']\n",
      "데이터셋 크기: 224\n"
     ]
    },
    {
     "data": {
      "image/png": "[encoded data removed]",
      "text/plain": [
       "<Figure size 640x480 with 1 Axes>"
      ]
     },
     "metadata": {},
     "output_type": "display_data"
    },
    {
     "name": "stdout",
     "output_type": "stream",
     "text": [
      "torch.Size([1, 300, 300])\n"
     ]
    }
   ],
   "source": [
    "# 현재 batch 꺼내보기(연속으로 실행 시 다음 batch로 이동)\n",
    "img, label = next(it) # 다음 순서로 넘어감\n",
    "def imshow(input, title):\n",
    "    # torch.Tensor를 numpy 객체로 변환\n",
    "    input = input.numpy().transpose((1, 2, 0))\n",
    "    # 이미지 정규화 해제하기\n",
    "    #mean = np.array([0.43303847, 0.4034577, 0.39415097])\n",
    "    #std = np.array([0.18344551, 0.17549995, 0.1647388])\n",
    "    #input = std * input + mean\n",
    "    input = np.clip(input, 0, 1)\n",
    "\n",
    "    # 이미지 출력\n",
    "    plt.imshow(input)\n",
    "    plt.title(title)\n",
    "    plt.show()\n",
    "\n",
    "\n",
    "class_names = trainset.classes\n",
    "print('클래스:', class_names)\n",
    "\n",
    "out = torchvision.utils.make_grid(img)\n",
    "print('데이터셋 크기:', len(trainset))\n",
    "\n",
    "imshow(out, title=[class_names[x] for x in label])\n",
    "print(img[0].shape)"
   ]
  },
  {
   "cell_type": "code",
   "execution_count": 13,
   "id": "f43c4da7-413f-4050-9d65-b47f6e5f9506",
   "metadata": {
    "scrolled": true
   },
   "outputs": [
    {
     "name": "stdout",
     "output_type": "stream",
     "text": [
      "torch.Size([20, 1, 300, 300])\n"
     ]
    },
    {
     "data": {
      "text/plain": [
       "torch.Size([20, 256, 16, 16])"
      ]
     },
     "execution_count": 13,
     "metadata": {},
     "output_type": "execute_result"
    }
   ],
   "source": [
    "# nn.Linear 입력차원 계산\n",
    "ks = (3, 3)\n",
    "\n",
    "imgs, labels = next(iter(trainloader))\n",
    "m = nn.Sequential(\n",
    "    nn.Conv2d(in_channels = 1, out_channels = 32, kernel_size = ks),\n",
    "    nn.ReLU(),\n",
    "    nn.MaxPool2d(kernel_size = 2),\n",
    "    nn.Conv2d(in_channels = 32, out_channels = 64, kernel_size = ks),\n",
    "    nn.ReLU(),\n",
    "    nn.MaxPool2d(kernel_size = 2),\n",
    "    nn.Conv2d(in_channels = 64, out_channels = 128, kernel_size = ks),\n",
    "    nn.ReLU(),\n",
    "    nn.MaxPool2d(kernel_size = 2),\n",
    "    nn.Conv2d(in_channels = 128, out_channels = 256, kernel_size = ks),\n",
    "    nn.ReLU(),\n",
    "    nn.MaxPool2d(kernel_size = 2),\n",
    "    )\n",
    "out = m(imgs)\n",
    "print(imgs.shape)\n",
    "out.shape"
   ]
  },
  {
   "cell_type": "code",
   "execution_count": 30,
   "id": "ec0ac71b-10df-4b30-9970-f97bda437b68",
   "metadata": {},
   "outputs": [],
   "source": [
    "# CNN 모델 구성\n",
    "ks = (3, 3)\n",
    "\n",
    "class CNN1(nn.Module):\n",
    "    def __init__(self):\n",
    "        super(CNN1, self).__init__()\n",
    "        self.conv1 = nn.Conv2d(in_channels = 1, out_channels = 32, kernel_size = ks)\n",
    "        self.conv2 = nn.Conv2d(in_channels = 32, out_channels = 64, kernel_size = ks)\n",
    "        self.conv3 = nn.Conv2d(in_channels = 64, out_channels = 128, kernel_size = ks)\n",
    "        self.conv4 = nn.Conv2d(in_channels = 128, out_channels = 256, kernel_size = ks)\n",
    "        \n",
    "        \n",
    "        self.pooling = nn.MaxPool2d(kernel_size = 2)\n",
    "        \n",
    "        self.fc1 = nn.Linear(256*16*16, 128)\n",
    "        self.fc2 = nn.Linear(128, 2)\n",
    "\n",
    "        self.relu = nn.ReLU()\n",
    "\n",
    "        #self.dropout = nn.Dropout(0.25)\n",
    "        self.dropout1 = nn.Dropout(0.4)\n",
    "\n",
    "    def forward(self, x):\n",
    "        x = self.conv1(x)\n",
    "        x = self.relu(x)\n",
    "        x = self.pooling(x)\n",
    "        #x = self.dropout(x)\n",
    "        \n",
    "        x = self.conv2(x)\n",
    "        x = self.relu(x)\n",
    "        x = self.pooling(x)\n",
    "        #x = self.dropout(x)\n",
    "        \n",
    "        x = self.conv3(x)\n",
    "        x = self.relu(x)\n",
    "        x = self.pooling(x)\n",
    "        #x = self.dropout(x)\n",
    "        \n",
    "        x = self.conv4(x)\n",
    "        x = self.relu(x)\n",
    "        x = self.pooling(x)\n",
    "        #x = self.dropout(x)\n",
    "        \n",
    "        x = torch.flatten(x, start_dim = 1)\n",
    "        \n",
    "        x = self.fc1(x)\n",
    "        x = self.relu(x)\n",
    "        x = self.dropout1(x)\n",
    "        x = self.fc2(x)\n",
    "        #x = self.relu(x)\n",
    "\n",
    "        #CrossEntropyLoss에 기본으로 softmax 제공\n",
    "        #x = F.log_softmax(x, dim = 1)\n",
    "        return x"
   ]
  },
  {
   "cell_type": "code",
   "execution_count": 31,
   "id": "b7c9b999-8d8d-4a42-aed6-1b71cbde2d58",
   "metadata": {
    "scrolled": true
   },
   "outputs": [
    {
     "data": {
      "text/plain": [
       "==========================================================================================\n",
       "Layer (type:depth-idx)                   Output Shape              Param #\n",
       "==========================================================================================\n",
       "CNN1                                     [16, 2]                   --\n",
       "├─Conv2d: 1-1                            [16, 32, 298, 298]        320\n",
       "├─ReLU: 1-2                              [16, 32, 298, 298]        --\n",
       "├─MaxPool2d: 1-3                         [16, 32, 149, 149]        --\n",
       "├─Conv2d: 1-4                            [16, 64, 147, 147]        18,496\n",
       "├─ReLU: 1-5                              [16, 64, 147, 147]        --\n",
       "├─MaxPool2d: 1-6                         [16, 64, 73, 73]          --\n",
       "├─Conv2d: 1-7                            [16, 128, 71, 71]         73,856\n",
       "├─ReLU: 1-8                              [16, 128, 71, 71]         --\n",
       "├─MaxPool2d: 1-9                         [16, 128, 35, 35]         --\n",
       "├─Conv2d: 1-10                           [16, 256, 33, 33]         295,168\n",
       "├─ReLU: 1-11                             [16, 256, 33, 33]         --\n",
       "├─MaxPool2d: 1-12                        [16, 256, 16, 16]         --\n",
       "├─Linear: 1-13                           [16, 128]                 8,388,736\n",
       "├─ReLU: 1-14                             [16, 128]                 --\n",
       "├─Dropout: 1-15                          [16, 128]                 --\n",
       "├─Linear: 1-16                           [16, 2]                   258\n",
       "==========================================================================================\n",
       "Total params: 8,776,834\n",
       "Trainable params: 8,776,834\n",
       "Non-trainable params: 0\n",
       "Total mult-adds (G): 18.08\n",
       "==========================================================================================\n",
       "Input size (MB): 5.76\n",
       "Forward/backward pass size (MB): 659.05\n",
       "Params size (MB): 35.11\n",
       "Estimated Total Size (MB): 699.92\n",
       "=========================================================================================="
      ]
     },
     "execution_count": 31,
     "metadata": {},
     "output_type": "execute_result"
    }
   ],
   "source": [
    "# 모델 구성 미리보기\n",
    "from torchinfo import summary\n",
    "\n",
    "m = CNN1()\n",
    "summary(m, (16, 1, 300, 300))"
   ]
  },
  {
   "cell_type": "code",
   "execution_count": 16,
   "id": "b15797cc-544f-4ccc-a51a-88acc29fcbe7",
   "metadata": {},
   "outputs": [],
   "source": [
    "# 훈련 함수\n",
    "\n",
    "def train_loop(dataloader, model, loss_fn, optimizer, device):\n",
    "\n",
    "    model.train() # 학습 모드\n",
    "    for batch, (X, y) in enumerate(dataloader):\n",
    "  \n",
    "        X, y = X.to(device), y.to(device)\n",
    "    \n",
    "        # 예측 오류 계산\n",
    "        pred = model(X)\n",
    "        loss = loss_fn(pred, y)\n",
    "\n",
    "        # 역전파\n",
    "        optimizer.zero_grad()\n",
    "        loss.backward()\n",
    "        optimizer.step()\n",
    "        \n",
    "    return loss.item()\n",
    "\n"
   ]
  },
  {
   "cell_type": "code",
   "execution_count": 17,
   "id": "faeea056-c071-48de-9d5b-f6cb57711399",
   "metadata": {},
   "outputs": [],
   "source": [
    "# 테스트 함수\n",
    "def test_loop(dataloader, model, loss_fn, device):\n",
    "  model.eval() # 평가 모드\n",
    "  size = len(dataloader.dataset)\n",
    "  num_batches = len(dataloader)\n",
    "  num_corr = 0\n",
    "  test_loss, test_acc = 0.0,0.0\n",
    "\n",
    "  with torch.no_grad():\n",
    "    for X, y in dataloader:\n",
    "      X, y = X.to(device), y.to(device)\n",
    "\n",
    "      pred = model(X)\n",
    "\n",
    "      preds = pred.data.max(1)[1]\n",
    "      corr = preds.eq(y.to(device).data).sum().item()\n",
    "      num_corr += corr\n",
    "    \n",
    "      test_loss += loss_fn(pred,y)\n",
    "      #test_acc += torch.sum(pred.argmax(axis=-1)==y).item()\n",
    "\n",
    "    test_loss /= len(dataloader) #step 수로 나누기.\n",
    "    #test_acc /= len(dataloader.dataset) #총 데이터수로 나누기.\n",
    "    test_acc = num_corr / len(dataloader.dataset)\n",
    "\n",
    "\n",
    "    test_loss = round(float(test_loss), 4)\n",
    "    test_acc = round(float(test_acc), 4)\n",
    "      \n",
    "    #print(f\"Test loss: {test_loss}, Test accuracy: {test_acc * 100}%\")\n",
    "      \n",
    "    return test_acc, test_loss"
   ]
  },
  {
   "cell_type": "code",
   "execution_count": 33,
   "id": "29cfe058-058f-488d-931c-fdac3e9e43bf",
   "metadata": {},
   "outputs": [],
   "source": [
    "#gpu 캐시 비우기\n",
    "torch.cuda.empty_cache()"
   ]
  },
  {
   "cell_type": "code",
   "execution_count": 34,
   "id": "829cccb0-503a-4c94-9b46-42eaa22ee269",
   "metadata": {},
   "outputs": [
    {
     "name": "stdout",
     "output_type": "stream",
     "text": [
      "epoch(1 / 7)$ test_loss == 0.6496, test_acc == 0.625\n",
      "epoch(2 / 7)$ test_loss == 0.4988, test_acc == 0.75\n",
      "epoch(3 / 7)$ test_loss == 0.3715, test_acc == 0.8571\n",
      "epoch(4 / 7)$ test_loss == 0.3004, test_acc == 0.9107\n",
      "epoch(5 / 7)$ test_loss == 0.3617, test_acc == 0.8214\n",
      "epoch(6 / 7)$ test_loss == 0.3268, test_acc == 0.875\n",
      "epoch(7 / 7)$ test_loss == 0.3649, test_acc == 0.875\n",
      "종료.\n"
     ]
    }
   ],
   "source": [
    "# 모델 train + test, 생성된 모델의 평균 loss & accuracy 출력\n",
    "epochs = 7\n",
    "learning_rate = 0.001\n",
    "loss = []\n",
    "acc = []\n",
    "#device = 'cpu'\n",
    "model = CNN1().to(device)\n",
    "lf = nn.CrossEntropyLoss()\n",
    "opt = torch.optim.Adam(model.parameters(), lr=learning_rate)\n",
    "\n",
    "for t in range(epochs):\n",
    "    #print(f\"Epoch {t+1}\\n-------------------------------\")\n",
    "    tr_loss = train_loop(trainloader, model, lf, opt, device)\n",
    "    ts_acc, ts_loss = test_loop(testloader, model, lf, device)\n",
    "\n",
    "    #tr_loss = round(tr_loss, 4)\n",
    "    ts_acc = round(ts_acc, 4)\n",
    "    ts_loss = round(ts_loss, 4)\n",
    "    \n",
    "    acc.append(ts_acc)\n",
    "    loss.append(ts_loss)\n",
    "\n",
    "    #if(t % 5 == 0 or t == 49):\n",
    "    print(\"epoch({} / {})$ test_loss == {}, test_acc == {}\".format(t + 1, epochs, ts_loss, ts_acc))\n",
    "\n",
    "print(\"종료.\")"
   ]
  },
  {
   "cell_type": "code",
   "execution_count": null,
   "id": "35a638cc-efef-4fa0-b327-3ce93ecd4791",
   "metadata": {},
   "outputs": [],
   "source": []
  },
  {
   "cell_type": "code",
   "execution_count": 35,
   "id": "7254543e-0191-4430-8560-3b03b438fd62",
   "metadata": {},
   "outputs": [
    {
     "data": {
      "image/png": "[encoded data removed]",
      "text/plain": [
       "<Figure size 1000x500 with 1 Axes>"
      ]
     },
     "metadata": {},
     "output_type": "display_data"
    }
   ],
   "source": [
    "def moving_average(data, window_size):\n",
    "    averages = []\n",
    "    for i in range(len(data) - window_size + 1):\n",
    "        window = data[i:i + window_size]\n",
    "        window_average = sum(window) / window_size\n",
    "        averages.append(window_average)\n",
    "    return averages\n",
    "\n",
    "def plot_moving_average(data, window_size):\n",
    "    averages = moving_average(data, window_size)\n",
    "    plt.figure(figsize=(10, 5))\n",
    "    plt.plot(data, label='Original Data', alpha = 0.4)\n",
    "    plt.plot(range(window_size - 1, len(data)), averages, label='Moving Average', color='red')\n",
    "    plt.xlabel('Epoch')\n",
    "    plt.ylabel('Value')\n",
    "    plt.title(f'Accuracy - Moving Average (Window Size = {window_size})')\n",
    "    plt.legend()\n",
    "    plt.show()\n",
    "\n",
    "plot_moving_average(acc, 1)"
   ]
  },
  {
   "cell_type": "code",
   "execution_count": 37,
   "id": "023087d3-1564-4d0d-b818-81584bf92b0c",
   "metadata": {},
   "outputs": [],
   "source": [
    "import sys\n",
    "import numpy as np\n",
    "import cv2\n",
    "\n",
    "\n",
    "oldx = oldy = -1  # 좌표 기본값 설정\n",
    "canvas_size = (300, 330)  # 전체 캔버스 크기\n",
    "drawing_area_size = (300, 300)  # 그리기 영역 크기\n",
    "button_size = (50, 30)  # 버튼 크기\n",
    "save_button_position = (canvas_size[0] - button_size[0], canvas_size[1] - button_size[1], button_size[0], button_size[1])  # 버튼의 위치와 크기 (x, y, width, height)\n",
    "\n",
    "def OpenCV2PIL(opencv_image):\n",
    "    color_coverted = cv2.cvtColor(opencv_image, cv2.COLOR_BGR2RGB)\n",
    "    pil_image = Image.fromarray(color_coverted)\n",
    "    return pil_image\n",
    "\n",
    "def on_mouse(event, x, y, flags, param):\n",
    "    global oldx, oldy  # 밖에 있는 oldx, oldy 불러옴\n",
    "\n",
    "    if event == cv2.EVENT_LBUTTONDOWN:  # 왼쪽이 눌러지면 실행\n",
    "        oldx, oldy = x, y  # 마우스가 눌렀을 때 좌표 저장, 띄워진 영상에서의 좌측 상단 기준\n",
    "        #print('EVENT_LBUTTONDOWN: %d, %d' % (x, y))  # 좌표 출력\n",
    "\n",
    "        # 버튼 영역 클릭 확인\n",
    "        if save_button_position[0] <= x <= save_button_position[0] + save_button_position[2] and \\\n",
    "           save_button_position[1] <= y <= save_button_position[1] + save_button_position[3]:\n",
    "            # 이미지를 (300, 300) 크기로 잘라서 저장\n",
    "            cropped_img = img[:drawing_area_size[1], :drawing_area_size[0]]\n",
    "            #cv2.imwrite('saved_image.png', cropped_img)\n",
    "            pil_image=Image.fromarray(cv2.cvtColor(cropped_img, cv2.COLOR_BGR2RGB))\n",
    "            #plt.imshow(pil_image)\n",
    "            #width, height = pil_image.size\n",
    "            #print(f'Width: {width}, Height: {height}')\n",
    "            trans_image = test_trans(pil_image).unsqueeze(0)\n",
    "            #model.eval()\n",
    "            with torch.no_grad():\n",
    "                prd = model(trans_image.to(device))\n",
    "                prediction = prd.max(1, keepdim=True)[1]\n",
    "            if(prediction.item() == 0):\n",
    "                result = 'O'\n",
    "            else:\n",
    "                result = 'X'\n",
    "            print(result)\n",
    "    #elif event == cv2.EVENT_LBUTTONUP:  # 마우스 뗐을때 발생\n",
    "        #print('EVENT_LBUTTONUP: %d, %d' % (x, y))  # 좌표 출력\n",
    "    elif event == cv2.EVENT_MOUSEMOVE:  # 마우스가 움직일 때 발생\n",
    "        if flags & cv2.EVENT_FLAG_LBUTTON:  # ==를 쓰면 다른 키도 입력되었을 때 작동안하므로 &(and) 사용\n",
    "            # cv2.circle(img, (x, y), 5, (0, 255, 0), -1)  # 단점이 빠르게 움직이면 끊김\n",
    "\n",
    "            # circle은 끊기므로 line 이용\n",
    "            # 마우스 클릭한 좌표에서 시작해서 마우스 좌표까지 그림\n",
    "            if y < drawing_area_size[1]:  # 그리기 영역을 넘어가지 않도록 함\n",
    "                cv2.line(img, (oldx, oldy), (x, y), (0, 0, 0), 4, cv2.LINE_AA)\n",
    "                cv2.imshow('image', img)\n",
    "                oldx, oldy = x, y  # 그림을 그리고 또 좌표 저장"
   ]
  },
  {
   "cell_type": "code",
   "execution_count": 51,
   "id": "85baf921-71ca-4192-9711-db54420cb625",
   "metadata": {},
   "outputs": [
    {
     "name": "stdout",
     "output_type": "stream",
     "text": [
      "O\n",
      "O\n"
     ]
    }
   ],
   "source": [
    "# 흰색 컬러 영상 생성\n",
    "img = np.ones((canvas_size[1], canvas_size[0], 3), dtype=np.uint8) * 255\n",
    "\n",
    "# 버튼 그리기\n",
    "cv2.rectangle(img, (save_button_position[0], save_button_position[1]),\n",
    "              (save_button_position[0] + save_button_position[2], save_button_position[1] + save_button_position[3]),\n",
    "              (0, 0, 255), -1)\n",
    "cv2.putText(img, 'Save', (save_button_position[0] + 5, save_button_position[1] + 20),\n",
    "            cv2.FONT_HERSHEY_SIMPLEX, 0.6, (255, 255, 255), 2)\n",
    "\n",
    "# 윈도우 창\n",
    "cv2.namedWindow('image')\n",
    "\n",
    "# 마우스 입력, namedWindow or imshow가 실행되어 창이 떠있는 상태에서만 사용 가능\n",
    "# 마우스 이벤트가 발생하면 on_mouse 함수 실행\n",
    "cv2.setMouseCallback('image', on_mouse, img)\n",
    "\n",
    "# 영상 출력\n",
    "cv2.imshow('image', img)\n",
    "cv2.waitKey()\n",
    "\n",
    "cv2.destroyAllWindows()\n"
   ]
  }
 ],
 "metadata": {
  "kernelspec": {
   "display_name": "Python 3 (ipykernel)",
   "language": "python",
   "name": "python3"
  },
  "language_info": {
   "codemirror_mode": {
    "name": "ipython",
    "version": 3
   },
   "file_extension": ".py",
   "mimetype": "text/x-python",
   "name": "python",
   "nbconvert_exporter": "python",
   "pygments_lexer": "ipython3",
   "version": "3.10.7"
  }
 },
 "nbformat": 4,
 "nbformat_minor": 5
}
